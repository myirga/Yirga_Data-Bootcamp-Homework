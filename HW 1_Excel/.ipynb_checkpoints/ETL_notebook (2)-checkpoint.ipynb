{
 "cells": [
  {
   "cell_type": "code",
   "execution_count": null,
   "metadata": {},
   "outputs": [],
   "source": [
    "import pandas as pd\n",
    "import datetime as dt\n",
    "import numpy as np"
   ]
  },
  {
   "cell_type": "code",
   "execution_count": null,
   "metadata": {},
   "outputs": [],
   "source": [
    "percent_file = \"API_BX.TRF.PWKR.DT.GD.ZS_DS2_en_csv_v2_55293.csv\"\n",
    "money_sent_file = \"API_BX.TRF.PWKR.CD_DS2_en_csv_v2_41308.csv\""
   ]
  },
  {
   "cell_type": "code",
   "execution_count": null,
   "metadata": {},
   "outputs": [],
   "source": [
    "#Read in csv files\n",
    "percent_df = pd.read_csv(percent_file)\n",
    "money_df = pd.read_csv(money_sent_file)"
   ]
  },
  {
   "cell_type": "code",
   "execution_count": null,
   "metadata": {},
   "outputs": [],
   "source": [
    "#Set indexes\n",
    "money_df.set_index(\"Country Name\", inplace=True)\n",
    "percent_df.set_index(\"Country Name\", inplace=True)"
   ]
  },
  {
   "cell_type": "code",
   "execution_count": null,
   "metadata": {},
   "outputs": [],
   "source": [
    "#View column names\n",
    "for col in money_df.columns:\n",
    "    print(col)"
   ]
  },
  {
   "cell_type": "code",
   "execution_count": null,
   "metadata": {},
   "outputs": [],
   "source": [
    "#Drop unnecessary columns\n",
    "money_df.drop(columns = [\"Country Code\", \"Indicator Name\", \"Indicator Code\"], inplace=True)\n"
   ]
  },
  {
   "cell_type": "code",
   "execution_count": null,
   "metadata": {},
   "outputs": [],
   "source": [
    "money_df.drop(columns=[\"1960\",\"1961\",\"1962\", \"1963\", \"1964\", \"1965\", \"1966\",\"1967\", \"1968\",\"1969\",\"1970\", \"1971\", \"1972\",\"1973\",\"1974\",\"1975\",\"1976\", \"1977\", \"1978\", \"1979\", \"1980\", \"1981\", \"1982\", \"1983\", \"1984\",\"1985\", \"1986\", \"1987\", \"1988\", \"1989\", \"1990\",\"1991\", \"1992\", \"1993\", \"1994\", \"1995\", \"1996\", \"1997\", \"1998\", \"1999\", \"2000\",\"2001\", \"2002\", \"2003\", \"2004\", \"2005\", \"2006\", \"2007\",\"2018\"], inplace=True)\n",
    "money_df"
   ]
  },
  {
   "cell_type": "code",
   "execution_count": null,
   "metadata": {},
   "outputs": [],
   "source": [
    "#Drops columns with all NAs\n",
    "money_df.dropna(1,how=\"all\", inplace=True)"
   ]
  },
  {
   "cell_type": "code",
   "execution_count": null,
   "metadata": {},
   "outputs": [],
   "source": [
    "#Convert data into floats to allow addition\n",
    "for col in money_df.columns:\n",
    "    money_df[col] = money_df[col].str.replace(\"$\",\"\")\n",
    "    money_df[col] = money_df[col].str.replace(\",\",\"\")\n",
    "    money_df[col] = money_df[col].str.replace(\"-\",\"\")\n",
    "    money_df[col] = money_df[col].str.replace(\")\",\"\")\n",
    "    money_df[col] = money_df[col].astype(float)"
   ]
  },
  {
   "cell_type": "code",
   "execution_count": null,
   "metadata": {},
   "outputs": [],
   "source": [
    "#Create a total column and sum the rows\n",
    "money_df.loc[:,'Total'] = money_df.sum(axis=1)"
   ]
  },
  {
   "cell_type": "code",
   "execution_count": null,
   "metadata": {},
   "outputs": [],
   "source": [
    "#Sort by total to find top five countries by Personal transfers receipts\n",
    "money_df.sort_values(\"Total\", ascending=False)"
   ]
  },
  {
   "cell_type": "code",
   "execution_count": null,
   "metadata": {},
   "outputs": [],
   "source": [
    "x=money_df.sort_values(\"Total\", ascending=False).head(30)\n",
    "x"
   ]
  },
  {
   "cell_type": "code",
   "execution_count": null,
   "metadata": {},
   "outputs": [],
   "source": [
    "money_df.drop(rows=[\"World\", \"IDA & IBRD total\", \"Low & middle income\", \"middle income\", \"IBRD only\", \"Early demographic dividend\",\n",
    "\"Upper middle income\", \"IDA total\", \"Late-demographic dividend\", \"IDA blend\", \"Least developed countries: UN classification\",\n",
    "\"Sub-Saharan Africa (excluding high income)\", \"Sub-Saharan Africa\", \"East Asia & Pacific (excluding high income)\", \n",
    "\"Pre-demographic dividend\", \" Europe & Central Asia (IDA & IBRD countries)\", \"Europe & Central Asia (excluding high income)\",\n",
    "\"Lower middle income\", \"South Asia\", \"South Asia (IDA & IBRD)\", \"Latin America & Caribbean\", \"Latin America & Caribbean (excluding high income)\", \n",
    "\"Middle East & North Africa (excluding high income)\", \"Middle East & North Africa (IDA & IBRD countries)\", \"East Asia & Pacific (IDA & IBRD countries)\", \n",
    "\"Sub-Saharan Africa\"], inplace=True)\n",
    "money_df"
   ]
  },
  {
   "cell_type": "code",
   "execution_count": null,
   "metadata": {},
   "outputs": [],
   "source": [
    "print "
   ]
  },
  {
   "cell_type": "code",
   "execution_count": 24,
   "metadata": {},
   "outputs": [
    {
     "data": {
      "text/plain": [
       "Country Name\n",
       "Afghanistan            2.138522e+09\n",
       "Albania                1.216088e+10\n",
       "Algeria                7.612738e+09\n",
       "American Samoa         0.000000e+00\n",
       "Andorra                0.000000e+00\n",
       "Angola                 2.138595e+08\n",
       "Antigua and Barbuda    1.818114e+08\n",
       "Arab World             0.000000e+00\n",
       "Argentina              4.287212e+09\n",
       "Armenia                7.546339e+09\n",
       "Name: Total, dtype: float64"
      ]
     },
     "execution_count": 24,
     "metadata": {},
     "output_type": "execute_result"
    }
   ],
   "source": [
    "money_total_df= money_df.groupby(['Country Name'])['Total'].max().head(10)\n",
    "money_total_df"
   ]
  },
  {
   "cell_type": "code",
   "execution_count": 18,
   "metadata": {},
   "outputs": [
    {
     "data": {
      "text/plain": [
       "Country Name\n",
       "Afghanistan            2.138522e+09\n",
       "Albania                1.216088e+10\n",
       "Algeria                7.612738e+09\n",
       "American Samoa         0.000000e+00\n",
       "Andorra                0.000000e+00\n",
       "Angola                 2.138595e+08\n",
       "Antigua and Barbuda    1.818114e+08\n",
       "Arab World             0.000000e+00\n",
       "Argentina              4.287212e+09\n",
       "Armenia                7.546339e+09\n",
       "Aruba                  3.575597e+07\n",
       "Australia              0.000000e+00\n",
       "Austria                3.956119e+09\n",
       "Azerbaijan             1.364894e+10\n",
       "Bahamas, The           0.000000e+00\n",
       "Bahrain                0.000000e+00\n",
       "Bangladesh             1.275278e+11\n",
       "Barbados               3.317524e+08\n",
       "Belarus                4.246800e+09\n",
       "Belgium                1.518638e+09\n",
       "Name: Total, dtype: float64"
      ]
     },
     "execution_count": 18,
     "metadata": {},
     "output_type": "execute_result"
    }
   ],
   "source": [
    "money_mean_df= money_df.groupby(['Country Name'])['Total'].mean().head(20)\n",
    "money_mean_df"
   ]
  },
  {
   "cell_type": "code",
   "execution_count": null,
   "metadata": {},
   "outputs": [],
   "source": []
  }
 ],
 "metadata": {
  "kernelspec": {
   "display_name": "Python 3",
   "language": "python",
   "name": "python3"
  },
  "language_info": {
   "codemirror_mode": {
    "name": "ipython",
    "version": 3
   },
   "file_extension": ".py",
   "mimetype": "text/x-python",
   "name": "python",
   "nbconvert_exporter": "python",
   "pygments_lexer": "ipython3",
   "version": "3.7.3"
  }
 },
 "nbformat": 4,
 "nbformat_minor": 2
}
